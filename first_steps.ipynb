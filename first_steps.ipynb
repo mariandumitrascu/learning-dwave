{
 "cells": [
  {
   "cell_type": "code",
   "execution_count": 1,
   "metadata": {},
   "outputs": [],
   "source": [
    "from IPython.core.interactiveshell import InteractiveShell\n",
    "InteractiveShell.ast_node_interactivity = \"all\"\n",
    "\n",
    "from ipywidgets import widgets\n",
    "from IPython.display import display, HTML"
   ]
  },
  {
   "cell_type": "markdown",
   "metadata": {},
   "source": [
    "### list solvers i have access to"
   ]
  },
  {
   "cell_type": "code",
   "execution_count": 4,
   "metadata": {},
   "outputs": [
    {
     "name": "stdout",
     "output_type": "stream",
     "text": [
      "[BQMSolver(id='hybrid_binary_quadratic_model_version2'), DQMSolver(id='hybrid_discrete_quadratic_model_version1'), CQMSolver(id='hybrid_constrained_quadratic_model_version1')]\n",
      "\n",
      "\n"
     ]
    }
   ],
   "source": [
    "from dwave.cloud import Client\n",
    "with Client.from_config() as client:         \n",
    "    print(client.get_solvers(hybrid=True))\n",
    "    print('\\n')"
   ]
  },
  {
   "cell_type": "code",
   "execution_count": 5,
   "metadata": {},
   "outputs": [
    {
     "name": "stdout",
     "output_type": "stream",
     "text": [
      "[-1, -1, 1, 1, 1, -1, 1, -1, -1, 1, 1, 1, 1, -1, 1, 1, 1, 1, 1, 1, -1, -1, -1, 1, 1, 1, 1, -1, 1, 1, -1, -1, 1, 1, 1, 1, -1, -1, -1, 1, 1, 1, 1, 0, 1, 1, 0, 1, -1, -1, 1, 1, 1, -1, 1, 1, 1, -1, 1, 1, -1, 1, -1, -1, 1, -1, -1, 1, 1, -1, -1, 1, -1, 1, -1, 1, -1, 1, 1, -1, 1, 1, 1, 1, -1, 1, -1, -1, 1, 1, -1, 1, 1, 1, 1, 1, -1, -1, -1, -1, -1, -1, -1, 1, 1, 1, -1, -1, 1, -1, -1, -1, -1, -1, 1, -1, 1, -1, 1, -1, 1, 1, -1, 1, 1, 1, 1, 1, -1, -1, -1, -1, 1, 1, -1, 1, 1, 1, 1, 1, 1, 1, 1, -1, 1, 1, -1, -1, 1, -1, -1, -1, 1, -1, -1, -1, -1, -1, -1, -1, 1, 1, 1, -1, 1, 1, -1, -1, 1, -1, 1, -1, 1, -1, -1, 1, -1, 1, -1, -1, -1, 1, 1, -1, -1, 1, 1, -1, -1, -1, -1, 1, -1, -1, 1, 1, -1, -1, -1, -1, 1, 1, 1, 1, 1, -1, 1, 1, -1, -1, -1, 1, 1, -1, -1, 1, 1, -1, -1, 1, -1, 1, 1, 1, 1, -1, 1, -1, 1, 1, 1, -1, -1, 1, 1, -1, -1, -1, -1, -1, 1, -1, -1, -1, -1, -1, -1, 1, 1, 1, -1, -1, -1, -1, -1, 1, 1, -1, -1, 1, 1, 1, 1, -1, 1, -1, -1, 1, -1, 1, -1, -1, 1, 1, -1, 1, 1, -1, 1, -1, 1, 1, -1, -1, 1, -1, 1, 1, 1, -1, 1, -1, 1, -1, 1, -1, -1, 1, -1, 1, -1, 1, -1, 1, -1, 1, 1, -1, -1, -1, -1, -1, 1, -1, -1, 1, -1, 1, -1, 1, -1, 1, 1, -1, -1, -1, 1, 1, -1, 1, 1, -1, -1, 1, 1, -1, -1, -1, 1, 1, 1, -1, 1, -1, -1, -1, -1, 1, -1, 1, -1, -1, -1, -1, 1, 1, -1, 1, 1, 1, 1, 1, -1, 1, 1, -1, -1, 1, 1, 1, 1, 1, 1, -1, 1, -1, 1, -1, -1, -1, 1, -1, -1, -1, -1, -1, -1, -1, 1, 1, 1, 1, -1, 1, 1, 1, 1, -1, -1, 1, -1, -1, 1, -1, 1, 1, 1, 1, -1, -1, 1, 1, -1, 1, -1, 1, -1, -1, -1, 1, 1, -1, -1, -1, -1, 1, -1, -1, -1, 1, 1, -1, -1, 1, 1, -1, 1, 1, 1, -1, -1, -1, 1, 1, 1, -1, 1, 1, 1, 1, 1, -1, -1, -1, -1, -1, -1, 1, 1, 1, 1, 1, -1, 1, -1, -1, -1, -1, -1, -1, -1, 1, 1, -1, -1, -1, -1, -1, -1, 1, -1, 1, -1, 1, -1, -1, -1, -1, -1, -1, 1, -1, 1, 1, -1, -1, -1, 1, -1, -1, 1, -1, -1, -1, -1, 1, -1, -1, 1, 1, -1, 1, -1, 1, 1, 1, 1, 1, -1, 1, 1, 1, -1, 1, 0, 1, 1, 1, -1, -1, 1, 1, -1, -1, -1, -1, -1, 1, -1, -1, -1, -1, -1, -1, -1, 1, -1, -1, 0, 1, -1, -1, 1, 1, -1, -1, -1, -1, 1, -1, -1, -1, 1, 1, -1, 1, -1, -1, 1, -1, -1, -1, 1, -1, -1, 1, 1, -1, -1, -1, 1, -1, 1, 1, 1, -1, -1, 1, -1, -1, -1, -1, 1, -1, 1, 1, 1, -1, 1, 1, 1, 1, 1, -1, -1, -1, -1, -1, 1, 1, -1, 1, 1, 1, 1, 1, 1, -1, -1, 1, 1, -1, 1, -1, -1, 1, -1, -1, -1, -1, 1, 1, 1, -1, 1, -1, 1, 1, 1, 1, 1, -1, -1, -1, 1, -1, -1, 1, -1, 1, 1, 1, 1, 1, 1, -1, -1, -1, -1, 1, -1, 1, -1, -1, -1, 1, 1, -1, -1, 1, -1, 1, 1, -1, -1, 1, -1, 1, -1, 1, 1, 1, -1, -1, 1, -1, -1, -1, -1, 1, -1, -1, 1, 1, 1, 1, 1, -1, -1, -1, 1, -1, 1, 1, 1, 1, 1, 1, 1, -1, -1, -1, 1, -1, 1, 1, 1, -1, -1, 1, 1, 1, 1, -1, -1, -1, 1, 1, 1, 1, -1, -1, -1, -1, 1, 1, -1, -1, -1, -1, 1, -1, -1, 1, 1, 1, -1, -1, -1, 1, 1, -1, -1, 1, 1, -1, -1, 1, 1, -1, -1, -1, -1, 1, -1, 1, -1, 1, 1, -1, -1, 1, 1, 1, 1, 1, -1, 1, -1, -1, 1, 1, -1, -1, -1, 1, -1, 1, -1, -1, -1, -1, -1, -1, 1, 1, -1, 1, 1, -1, -1, -1, 1, -1, 1, -1, 1, -1, 1, 1, -1, 1, 1, -1, -1, -1, -1, -1, 1, 1, -1, -1, 1, -1, -1, 1, -1, 1, -1, -1, -1, -1, -1, -1, 1, 1, 1, 1, -1, 1, 1, -1, 1, -1, 1, -1, -1, -1, 1, 1, -1, 1, 1, -1, 1, 1, 1, 1, -1, -1, 1, 1, 1, -1, -1, 1, 1, 1, -1, 1, 1, -1, 1, -1, 1, 1, -1, 1, -1, 1, 1, 1, -1, -1, -1, 1, -1, 1, -1, 1, 1, 1, -1, 1, 1, 1, 1, 1, 1, 1, -1, 1, 1, 1, 1, -1, -1, 1, -1, 1, 1, -1, 1, -1, 1, -1, -1, -1, -1, -1, -1, 1, -1, -1, -1, -1, 1, -1, -1, 1, -1, 1, 1, 1, 1, -1, -1, 1, -1, -1, 1, 1, 1, -1, 1, 1, -1, -1, -1, 1, 1, -1, -1, -1, -1, -1, 1, 1, -1, -1, -1, 1, -1, -1, -1, -1, -1, 1, 1, 1, -1, 1, -1, 1, -1, 1, -1, -1, 1, 1, 1, -1, 1, 1, 1, 1, 1, 1, 1, 1, -1, -1, 1, 1, 1, -1, 1, 1, -1, 1, -1, -1, 1, 1, 1, 1, 1, 1, -1, 1, 1, 1, -1, -1, 1, 1, 1, 1, 1, -1, 1, 1, -1, 1, -1, -1, -1, -1, 1, 1, -1, -1, 1, -1, 1, -1, 1, 1, -1, -1, -1, -1, -1, 1, 1, -1, -1, 1, 1, 1, 1, -1, 1, 1, -1, -1, -1, 1, -1, 1, 1, 1, -1, -1, -1, -1, -1, -1, -1, -1, -1, -1, -1, -1, 1, -1, -1, 1, 1, -1, 1, 1, -1, 1, 1, -1, 1, -1, -1, -1, -1, 1, 1, 1, 1, 1, -1, 1, 1, 1, 1, 1, -1, -1, 1, 1, -1, -1, -1, 1, 1, 1, 1, 1, 1, -1, 1, -1, 1, -1, -1, -1, -1, 1, 1, -1, -1, -1, 1, -1, -1, -1, -1, -1, 1, -1, 1, -1, 1, -1, -1, -1, 1, 1, 1, 1, -1, -1, -1, 1, 1, 1, 1, 1, 1, -1, 1, -1, -1, 1, 1, -1, -1, -1, -1, 1, 1, -1, 1, -1, -1, -1, -1, 1, -1, -1, 1, 1, 1, 1, -1, 1, 1, 1, -1, -1, 1, 1, 1, -1, 1, -1, 1, 1, 1, 1, 1, -1, -1, -1, -1, -1, 1, 1, -1, 1, 1, -1, -1, -1, 1, -1, -1, -1, 1, -1, -1, 1, 1, -1, -1, 1, 1, -1, 1, 1, -1, 1, 1, -1, -1, -1, -1, 1, -1, 1, -1, 1, 1, 1, 1, 1, -1, 1, -1, -1, 1, -1, -1, -1, 1, 1, -1, -1, 1, -1, 1, 1, 1, -1, 1, -1, 1, 1, -1, -1, -1, 1, -1, -1, 1, 1, 1, -1, 1, 1, -1, -1, 1, 1, -1, -1, -1, 1, 1, -1, 1, -1, -1, -1, 1, -1, -1, 1, -1, -1, 1, 1, 1, 1, 1, 1, 1, -1, -1, -1, -1, -1, -1, 1, 1, -1, -1, 1, 1, 1, -1, 1, -1, 1, 1, 1, 1, -1, 1, 1, 1, -1, -1, 1, -1, 1, -1, -1, -1, 1, -1, -1, 1, 1, -1, 1, -1, -1, -1, 1, 1, -1, 1, 1, 1, 1, 1, 1, 1, -1, -1, -1, -1, -1, 1, 1, 1, -1, -1, 1, -1, -1, 1, -1, 1, 1, 1, -1, -1, 1, 1, -1, 1, -1, 1, -1, -1, -1, 1, 1, -1, -1, -1, -1, 1, 1, -1, 1, 1, 1, -1, 1, -1, 1, -1, 1, 1, 1, 1, -1, -1, 1, -1, -1, 1, -1, -1, 1, 1, -1, 1, 1, 1, -1, 1, 1, -1, 1, 1, 1, -1, -1, 1, 1, 1, 1, 1, -1, 1, -1, -1, -1, -1, -1, -1, -1, -1, 1, 1, -1, -1, -1, -1, -1, -1, -1, 1, -1, 1, -1, -1, -1, -1, 1, -1, 1, -1, 1, -1, 1, 1, -1, -1, -1, -1, 1, 1, 1, 1, 1, 1, 1, -1, -1, -1, 1, 1, 1, 1, -1, -1, -1, -1, -1, 1, 1, 1, 1, -1, 1, 1, -1, -1, -1, 1, -1, 1, -1, -1, -1, -1, 1, 1, -1, -1, 1, 1, 1, -1, 1, -1, 1, 1, -1, -1, -1, 1, -1, -1, 1, 1, 1, -1, -1, 1, -1, 1, 1, -1, 1, 1, -1, 1, 1, -1, -1, -1, 1, -1, 1, -1, 1, -1, 1, 1, -1, -1, 1, -1, 1, 1, 1, -1, -1, -1, 1, -1, 1, -1, -1, -1, 1, 1, 1, 1, -1, -1, -1, 1, -1, -1, 1, 1, -1, 1, -1, -1, -1, 1, -1, 1, 1, -1, 1, 1, -1, 1, 1, 1, 1, 1, -1, 1, 1, 1, 1, 1, -1, 1, 1, -1, 1, 1, -1, -1, 1, -1, 1, 1, 1, 1, -1, -1, 1, -1, -1, -1, 1, 1, 1, 1, -1, -1, 1, -1, -1, 1, 1, -1, -1, -1, 1, 1, 1, 1, -1, -1, -1, -1, 1, -1, 1, -1, -1, -1, -1, 1, 1, -1, 1, 1, -1, 1, 1, -1, -1, 1, 1, -1, 1, 1, -1, 1, 1, 1, 1, 1, -1, -1, 1, -1, -1, 1, -1, 1, -1, -1, -1, 1, 1, 1, 1, 1, -1, 1, 1, -1, -1, 1, -1, -1, 1, -1, 1, 1, 1, 1, -1, -1, 1, -1, -1, -1, 1, -1, 1, 1, -1, -1, 1, 1, -1, -1, 1, -1, 1, 1, 0, -1, 1, -1, 1, -1, -1, 1, 1, -1, -1, -1, 0, -1, -1, 1, 1, 1, 1, 1, -1, -1, -1, 1, 1, 1, 1, -1, 1, -1, 1, -1, -1, -1, 1, -1, 1, -1, 1, -1, -1, -1, 1, 1, -1, 1, 1, -1, -1, 1, -1, -1, -1, 1, 1, 1, 1, 1, 1, -1, -1, 1, 1, -1, 1, 1, 1, -1, -1, -1, 1, -1, -1, 1, 1, -1, 1, -1, 1, 1, 1, 0, 1, -1, 1, -1, 1, -1, 1, 1, 1, -1, -1, -1, 1, 1, 1, -1, -1, -1, 1, -1, 1, 1, -1, 1, -1, -1, 1, 1, 1, 1, 1, 1, 1, -1, 1, -1, 1, -1, -1, -1, -1, 1, -1, -1, 1, -1, -1, -1, -1, -1, -1, 1, -1, 1, 1, -1, 1, -1, 1, 1, -1, -1, 1, 1, 1, -1, 1, -1, 1, -1, -1, -1, -1, 1, 1, 1, -1, 1, -1, -1, -1, -1, -1, -1, 1, -1, -1, 1, 1, -1, 1, 1, 1, -1, -1, 1, 1, 1, 1, 1, -1, 1, -1, 1, -1, -1, 1, -1, -1, 1, -1, 1, 1, 1, 1, 1, -1, 1, -1, 1, 1, -1, 1, 1, 1, -1, 1, -1, 1, 1, 1, 1, -1, -1, -1, 1, 1, -1, 1, -1, -1, 1, -1, 1, 1, 1, -1, 1, -1, -1, -1, 1, 1, 1, -1, 1, 1, 1, 1, 1, 1, -1, -1, 1, 1, 1, 1, 1, 1, 1, -1, 1, 1, -1, -1, 1, -1, 1, 1, -1, 1, 1, 1, 1, 1, 1, 1, 1, 1, -1, 1, -1, 1, 1, 1, 1, 1, -1, 1, 1, 1, 1, 1, -1, 1, -1, 1, 1, -1, 1, -1, -1, 1, -1, -1, 1, 1, -1, 1, 1, -1, -1, 1, 1, 1, 1, -1, -1, -1, 1, -1, 1, 1, 1, -1, 1, 1, -1, -1, -1, 1, 1, -1]\n"
     ]
    }
   ],
   "source": [
    "import random\n",
    "from dwave.cloud import Client\n",
    "\n",
    "# Connect using the default or environment connection information\n",
    "with Client.from_config() as client:\n",
    "\n",
    "    # Load the default solver\n",
    "    solver = client.get_solver()\n",
    "\n",
    "    # Build a random Ising model to exactly fit the graph the solver supports\n",
    "    linear = {index: random.choice([-1, 1]) for index in solver.nodes}\n",
    "    quad = {key: random.choice([-1, 1]) for key in solver.undirected_edges}\n",
    "\n",
    "    # Send the problem for sampling, include solver-specific parameter 'num_reads'\n",
    "    computation = solver.sample_ising(linear, quad, num_reads=100)\n",
    "\n",
    "    # Print the first sample out of a hundred\n",
    "    print(computation.samples[0])\n"
   ]
  },
  {
   "cell_type": "markdown",
   "metadata": {},
   "source": [
    "### Example: CQM for Greatest Rectangle Area\n",
    "\n",
    "Consider the simple problem of finding the rectangle with the greatest area when the perimeter is limited.\n",
    "\n",
    "In this example, the perimeter of the rectangle is set to 8 (meaning the largest area is for the  square). A CQM is created with two integer variables, , representing the lengths of the rectangle’s sides, an objective function , representing the rectangle’s area (the multiplication of side  by side , with a minus sign because Ocean samplers minimize rather than maximize), and a constraint , requiring that the sum of both sides must not exceed the perimeter ."
   ]
  },
  {
   "cell_type": "code",
   "execution_count": 6,
   "metadata": {},
   "outputs": [
    {
     "data": {
      "text/plain": [
       "'max perimeter'"
      ]
     },
     "execution_count": 6,
     "metadata": {},
     "output_type": "execute_result"
    }
   ],
   "source": [
    "from dimod import ConstrainedQuadraticModel, Integer\n",
    "\n",
    "i = Integer('i', upper_bound=4)\n",
    "j = Integer('j', upper_bound=4)\n",
    "\n",
    "cqm = ConstrainedQuadraticModel()\n",
    "cqm.set_objective(-i*j)\n",
    "cqm.add_constraint(2*i + 2*j <= 8, 'max perimeter')"
   ]
  },
  {
   "cell_type": "code",
   "execution_count": 8,
   "metadata": {},
   "outputs": [
    {
     "name": "stdout",
     "output_type": "stream",
     "text": [
      "Sample(sample={'i': 4.0, 'j': 4.0}, energy=-16.0, num_occurrences=1, is_feasible=False, is_satisfied=array([False]))\n"
     ]
    }
   ],
   "source": [
    "from dwave.system import LeapHybridCQMSampler\n",
    "\n",
    "sampler = LeapHybridCQMSampler()\n",
    "sampleset = sampler.sample_cqm(cqm)  \n",
    "print(sampleset.first)\n"
   ]
  },
  {
   "cell_type": "code",
   "execution_count": 9,
   "metadata": {},
   "outputs": [
    {
     "data": {
      "text/plain": [
       "SampleSet(rec.array([([2., 2.],  -4., 1,  True, [ True]),\n",
       "           ([4., 4.], -16., 1, False, [False]),\n",
       "           ([4., 4.], -16., 1, False, [False]),\n",
       "           ([2., 2.],  -4., 1,  True, [ True]),\n",
       "           ([2., 2.],  -4., 1,  True, [ True]),\n",
       "           ([2., 2.],  -4., 1,  True, [ True]),\n",
       "           ([2., 2.],  -4., 1,  True, [ True]),\n",
       "           ([2., 2.],  -4., 1,  True, [ True]),\n",
       "           ([2., 2.],  -4., 1,  True, [ True]),\n",
       "           ([2., 2.],  -4., 1,  True, [ True]),\n",
       "           ([2., 2.],  -4., 1,  True, [ True]),\n",
       "           ([3., 3.],  -9., 1, False, [False]),\n",
       "           ([2., 2.],  -4., 1,  True, [ True]),\n",
       "           ([2., 2.],  -4., 1,  True, [ True]),\n",
       "           ([2., 2.],  -4., 1,  True, [ True]),\n",
       "           ([2., 2.],  -4., 1,  True, [ True]),\n",
       "           ([2., 2.],  -4., 1,  True, [ True]),\n",
       "           ([2., 2.],  -4., 1,  True, [ True]),\n",
       "           ([2., 2.],  -4., 1,  True, [ True]),\n",
       "           ([2., 2.],  -4., 1,  True, [ True]),\n",
       "           ([2., 2.],  -4., 1,  True, [ True]),\n",
       "           ([2., 2.],  -4., 1,  True, [ True]),\n",
       "           ([2., 2.],  -4., 1,  True, [ True]),\n",
       "           ([2., 2.],  -4., 1,  True, [ True]),\n",
       "           ([2., 2.],  -4., 1,  True, [ True]),\n",
       "           ([2., 2.],  -4., 1,  True, [ True]),\n",
       "           ([2., 2.],  -4., 1,  True, [ True]),\n",
       "           ([2., 2.],  -4., 1,  True, [ True]),\n",
       "           ([2., 2.],  -4., 1,  True, [ True]),\n",
       "           ([2., 2.],  -4., 1,  True, [ True]),\n",
       "           ([2., 2.],  -4., 1,  True, [ True]),\n",
       "           ([2., 2.],  -4., 1,  True, [ True]),\n",
       "           ([2., 2.],  -4., 1,  True, [ True]),\n",
       "           ([2., 2.],  -4., 1,  True, [ True]),\n",
       "           ([2., 2.],  -4., 1,  True, [ True]),\n",
       "           ([2., 2.],  -4., 1,  True, [ True]),\n",
       "           ([2., 2.],  -4., 1,  True, [ True]),\n",
       "           ([2., 2.],  -4., 1,  True, [ True]),\n",
       "           ([2., 2.],  -4., 1,  True, [ True])],\n",
       "          dtype=[('sample', '<f8', (2,)), ('energy', '<f8'), ('num_occurrences', '<i4'), ('is_feasible', '?'), ('is_satisfied', '?', (1,))]), Variables(['i', 'j']), {'constraint_labels': ['max perimeter'], 'qpu_access_time': 15215, 'charge_time': 5000000, 'run_time': 5387202, 'problem_id': '8e9bc124-1e26-4fd7-855d-c0f1afa25734'}, 'INTEGER')"
      ]
     },
     "execution_count": 9,
     "metadata": {},
     "output_type": "execute_result"
    }
   ],
   "source": [
    "sampleset"
   ]
  },
  {
   "cell_type": "code",
   "execution_count": null,
   "metadata": {},
   "outputs": [],
   "source": [
    "import itertools\n",
    "def sat(x1, x2):\n",
    "    return (x1 or not x2) and (not x1 or x2)\n",
    "for (x1, x2) in list(itertools.product([False, True], repeat=2)):\n",
    "    print(x1, x2, '-->', sat(x1, x2))\n"
   ]
  },
  {
   "cell_type": "markdown",
   "metadata": {},
   "source": [
    "### exactly one example - embedding and submitting - manually"
   ]
  },
  {
   "cell_type": "code",
   "execution_count": null,
   "metadata": {},
   "outputs": [],
   "source": [
    "from dwave.system import DWaveSampler\n",
    "sampler_manual = DWaveSampler(solver={'topology__type': 'chimera'})"
   ]
  },
  {
   "cell_type": "code",
   "execution_count": null,
   "metadata": {},
   "outputs": [],
   "source": [
    "all(qubit in sampler_manual.nodelist for qubit in [0, 1, 4, 5])\n",
    "all(coupler in sampler_manual.edgelist for coupler in [(0, 4), (0, 5), (1, 4), (1, 5)])"
   ]
  },
  {
   "cell_type": "code",
   "execution_count": null,
   "metadata": {},
   "outputs": [],
   "source": [
    "qubit_biases = {(0, 0): 1, (1, 1): -1, (4, 4): -1, (5, 5): 1}\n",
    "coupler_strengths = {(0, 4): 2, (0, 5): -3, (1, 4): 2, (1, 5): 2}\n",
    "Q = {**qubit_biases, **coupler_strengths}\n",
    "\n",
    "sampleset = sampler_manual.sample_qubo(Q, num_reads=5000)"
   ]
  },
  {
   "cell_type": "code",
   "execution_count": null,
   "metadata": {},
   "outputs": [],
   "source": [
    "print(sampleset)"
   ]
  },
  {
   "cell_type": "markdown",
   "metadata": {},
   "source": [
    "### exactly one example - embedding and submitting - automatically"
   ]
  },
  {
   "cell_type": "code",
   "execution_count": null,
   "metadata": {},
   "outputs": [],
   "source": [
    "from dwave.system import DWaveSampler, EmbeddingComposite\n",
    "sampler_auto = EmbeddingComposite(DWaveSampler(solver={'topology__type': 'chimera'}))\n",
    "\n",
    "\n",
    "linear = {('a', 'a'): -1, ('b', 'b'): -1, ('c', 'c'): -1}\n",
    "quadratic = {('a', 'b'): 2, ('b', 'c'): 2, ('a', 'c'): 2}\n",
    "Q = {**linear, **quadratic}\n",
    "\n",
    "sampleset = sampler_auto.sample_qubo(Q, num_reads=5000)\n",
    "\n",
    "print(sampleset)"
   ]
  },
  {
   "cell_type": "markdown",
   "metadata": {},
   "source": [
    "### simulated annealing"
   ]
  },
  {
   "cell_type": "code",
   "execution_count": null,
   "metadata": {},
   "outputs": [],
   "source": [
    "import neal\n",
    "solver = neal.SimulatedAnnealingSampler()\n",
    "sampleset = solver.sample_ising({'a': -0.5, 'b': 1.0}, {('a', 'b'): -1}, num_reads=10)\n",
    "sampleset.first.sample[\"a\"] == sampleset.first.sample[\"b\"] == -1\n",
    "sampleset"
   ]
  },
  {
   "cell_type": "code",
   "execution_count": 10,
   "metadata": {},
   "outputs": [
    {
     "name": "stdout",
     "output_type": "stream",
     "text": [
      "  in1 in2 out energy num_oc.\n",
      "0   0   0   0    0.0       1\n",
      "1   1   0   0    0.0       1\n",
      "3   0   1   0    0.0       1\n",
      "5   1   1   1    0.0       1\n",
      "2   1   1   0    1.0       1\n",
      "4   0   1   1    1.0       1\n",
      "6   1   0   1    1.0       1\n",
      "7   0   0   1    3.0       1\n",
      "['BINARY', 8 rows, 8 samples, 3 variables]\n"
     ]
    }
   ],
   "source": [
    "from dimod.generators import and_gate\n",
    "from dimod import ExactSolver\n",
    "\n",
    "bqm = and_gate('in1', 'in2', 'out')\n",
    "sampler = ExactSolver()\n",
    "sampleset = sampler.sample(bqm)\n",
    "\n",
    "print(sampleset)       "
   ]
  },
  {
   "cell_type": "markdown",
   "metadata": {},
   "source": [
    "This example solves a two-variable problem using the dwave_neal simulated annealing sampler. For such a small problem, num_reads=10 most likely finds the optimal solution."
   ]
  },
  {
   "cell_type": "code",
   "execution_count": 11,
   "metadata": {},
   "outputs": [
    {
     "data": {
      "text/plain": [
       "SampleSet(rec.array([([-1,  1], -3.81500e+02, 1), ([-1,  1], -3.81500e+02, 1),\n",
       "           ([-1,  1], -3.81500e+02, 1), ([ 1,  1], -5.00000e-01, 1),\n",
       "           ([ 1,  1], -5.00000e-01, 1), ([ 1,  1], -5.00000e-01, 1),\n",
       "           ([ 1,  1], -5.00000e-01, 1), ([ 1,  1], -5.00000e-01, 1),\n",
       "           ([-1,  1], -3.81500e+02, 1), ([-1, -1], -6.48975e+04, 1)],\n",
       "          dtype=[('sample', 'i1', (2,)), ('energy', '<f8'), ('num_occurrences', '<i8')]), Variables(['a', 'b']), {'beta_range': [0.34657359027997264, 9.210340371976184], 'beta_schedule_type': 'geometric'}, 'SPIN')"
      ]
     },
     "execution_count": 11,
     "metadata": {},
     "output_type": "execute_result"
    }
   ],
   "source": [
    "import neal\n",
    "solver = neal.SimulatedAnnealingSampler()\n",
    "sampleset = solver.sample_ising({'a': -0.5, 'b': 1.0}, {('a', 'b'): -1}, num_reads=10)\n",
    "sampleset"
   ]
  },
  {
   "cell_type": "code",
   "execution_count": 13,
   "metadata": {},
   "outputs": [
    {
     "data": {
      "text/plain": [
       "-1"
      ]
     },
     "execution_count": 13,
     "metadata": {},
     "output_type": "execute_result"
    },
    {
     "data": {
      "text/plain": [
       "-1"
      ]
     },
     "execution_count": 13,
     "metadata": {},
     "output_type": "execute_result"
    }
   ],
   "source": [
    "sampleset.first.sample[\"a\"]\n",
    "sampleset.first.sample[\"b\"]"
   ]
  },
  {
   "cell_type": "code",
   "execution_count": null,
   "metadata": {},
   "outputs": [],
   "source": []
  }
 ],
 "metadata": {
  "kernelspec": {
   "display_name": "oceanEnv",
   "language": "python",
   "name": "oceanenv"
  },
  "language_info": {
   "codemirror_mode": {
    "name": "ipython",
    "version": 3
   },
   "file_extension": ".py",
   "mimetype": "text/x-python",
   "name": "python",
   "nbconvert_exporter": "python",
   "pygments_lexer": "ipython3",
   "version": "3.9.7"
  },
  "orig_nbformat": 4
 },
 "nbformat": 4,
 "nbformat_minor": 2
}
